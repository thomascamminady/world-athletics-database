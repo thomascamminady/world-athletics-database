{
 "cells": [
  {
   "cell_type": "code",
   "execution_count": 1,
   "metadata": {},
   "outputs": [],
   "source": [
    "import polars as pl"
   ]
  },
  {
   "cell_type": "code",
   "execution_count": 19,
   "metadata": {},
   "outputs": [
    {
     "data": {
      "text/html": [
       "<div><style>\n",
       ".dataframe > thead > tr > th,\n",
       ".dataframe > tbody > tr > td {\n",
       "  text-align: right;\n",
       "}\n",
       "</style>\n",
       "<small>shape: (463_847, 12)</small><table border=\"1\" class=\"dataframe\"><thead><tr><th>Rank</th><th>Mark</th><th>Competitor</th><th>DOB</th><th>Nat</th><th>Pos</th><th>Venue</th><th>Date</th><th>Results Score</th><th>Event</th><th>Wind</th><th>sex</th></tr><tr><td>i64</td><td>f64</td><td>str</td><td>date</td><td>str</td><td>str</td><td>str</td><td>date</td><td>i64</td><td>str</td><td>str</td><td>str</td></tr></thead><tbody><tr><td>1</td><td>223.1</td><td>&quot;Hicham EL GUER…</td><td>1974-09-14</td><td>&quot;MAR&quot;</td><td>&quot;1&quot;</td><td>&quot;Stadio Olimpic…</td><td>1999-07-07</td><td>1292</td><td>&quot;One Mile&quot;</td><td>null</td><td>&quot;male&quot;</td></tr><tr><td>2</td><td>223.4</td><td>&quot;Noah NGENY&quot;</td><td>1978-11-02</td><td>&quot;KEN&quot;</td><td>&quot;2&quot;</td><td>&quot;Stadio Olimpic…</td><td>1999-07-07</td><td>1288</td><td>&quot;One Mile&quot;</td><td>null</td><td>&quot;male&quot;</td></tr><tr><td>3</td><td>224.3</td><td>&quot;Noureddine MOR…</td><td>1970-02-28</td><td>&quot;ALG&quot;</td><td>&quot;1&quot;</td><td>&quot;Rieti (ITA)&quot;</td><td>1993-09-05</td><td>1275</td><td>&quot;One Mile&quot;</td><td>null</td><td>&quot;male&quot;</td></tr><tr><td>4</td><td>224.6</td><td>&quot;Hicham EL GUER…</td><td>1974-09-14</td><td>&quot;MAR&quot;</td><td>&quot;1&quot;</td><td>&quot;Nice (FRA)&quot;</td><td>1998-07-16</td><td>1272</td><td>&quot;One Mile&quot;</td><td>null</td><td>&quot;male&quot;</td></tr><tr><td>5</td><td>224.9</td><td>&quot;Hicham EL GUER…</td><td>1974-09-14</td><td>&quot;MAR&quot;</td><td>&quot;1&quot;</td><td>&quot;Oslo (NOR)&quot;</td><td>1997-07-04</td><td>1268</td><td>&quot;One Mile&quot;</td><td>null</td><td>&quot;male&quot;</td></tr><tr><td>6</td><td>224.9</td><td>&quot;Hicham EL GUER…</td><td>1974-09-14</td><td>&quot;MAR&quot;</td><td>&quot;1&quot;</td><td>&quot;Stadio Olimpic…</td><td>2001-06-29</td><td>1267</td><td>&quot;One Mile&quot;</td><td>null</td><td>&quot;male&quot;</td></tr><tr><td>7</td><td>225.1</td><td>&quot;Noureddine MOR…</td><td>1970-02-28</td><td>&quot;ALG&quot;</td><td>&quot;1&quot;</td><td>&quot;Zürich (SUI)&quot;</td><td>1995-08-16</td><td>1264</td><td>&quot;One Mile&quot;</td><td>null</td><td>&quot;male&quot;</td></tr><tr><td>8</td><td>225.6</td><td>&quot;Hicham EL GUER…</td><td>1974-09-14</td><td>&quot;MAR&quot;</td><td>&quot;1&quot;</td><td>&quot;Olympiastadion…</td><td>1997-08-26</td><td>1258</td><td>&quot;One Mile&quot;</td><td>null</td><td>&quot;male&quot;</td></tr><tr><td>9</td><td>225.9</td><td>&quot;Hicham EL GUER…</td><td>1974-09-14</td><td>&quot;MAR&quot;</td><td>&quot;1&quot;</td><td>&quot;Crystal Palace…</td><td>2000-08-05</td><td>1254</td><td>&quot;One Mile&quot;</td><td>null</td><td>&quot;male&quot;</td></tr><tr><td>10</td><td>226.2</td><td>&quot;Hicham EL GUER…</td><td>1974-09-14</td><td>&quot;MAR&quot;</td><td>&quot;1&quot;</td><td>&quot;Bislett Stadio…</td><td>2000-07-28</td><td>1250</td><td>&quot;One Mile&quot;</td><td>null</td><td>&quot;male&quot;</td></tr><tr><td>11</td><td>226.3</td><td>&quot;Steve CRAM&quot;</td><td>1960-10-14</td><td>&quot;GBR&quot;</td><td>&quot;1&quot;</td><td>&quot;Oslo (NOR)&quot;</td><td>1985-07-27</td><td>1249</td><td>&quot;One Mile&quot;</td><td>null</td><td>&quot;male&quot;</td></tr><tr><td>12</td><td>226.3</td><td>&quot;Daniel KOMEN&quot;</td><td>1976-05-17</td><td>&quot;KEN&quot;</td><td>&quot;2&quot;</td><td>&quot;Olympiastadion…</td><td>1997-08-26</td><td>1248</td><td>&quot;One Mile&quot;</td><td>null</td><td>&quot;male&quot;</td></tr><tr><td>&hellip;</td><td>&hellip;</td><td>&hellip;</td><td>&hellip;</td><td>&hellip;</td><td>&hellip;</td><td>&hellip;</td><td>&hellip;</td><td>&hellip;</td><td>&hellip;</td><td>&hellip;</td><td>&hellip;</td></tr><tr><td>2206</td><td>6.75</td><td>&quot;Abigail IROZUR…</td><td>1990-01-03</td><td>&quot;GBR&quot;</td><td>&quot;4q1&quot;</td><td>&quot;National Stadi…</td><td>2021-08-01</td><td>1163</td><td>&quot;Long Jump&quot;</td><td>&quot;0.3&quot;</td><td>&quot;female&quot;</td></tr><tr><td>2206</td><td>6.75</td><td>&quot;Maryna BEKH-RO…</td><td>1995-07-18</td><td>&quot;UKR&quot;</td><td>&quot;3&quot;</td><td>&quot;Sechseläutenpl…</td><td>2021-09-08</td><td>1163</td><td>&quot;Long Jump&quot;</td><td>&quot;0.4&quot;</td><td>&quot;female&quot;</td></tr><tr><td>2206</td><td>6.75</td><td>&quot;Jasmine MOORE&quot;</td><td>2001-05-01</td><td>&quot;USA&quot;</td><td>&quot;4&quot;</td><td>&quot;Mike A. Myers …</td><td>2022-03-26</td><td>1163</td><td>&quot;Long Jump&quot;</td><td>&quot;1.7&quot;</td><td>&quot;female&quot;</td></tr><tr><td>2206</td><td>6.75</td><td>&quot;Quanesha BURKS…</td><td>1995-03-15</td><td>&quot;USA&quot;</td><td>null</td><td>&quot;LSU Bernie Moo…</td><td>2022-04-23</td><td>1163</td><td>&quot;Long Jump&quot;</td><td>&quot;1.5&quot;</td><td>&quot;female&quot;</td></tr><tr><td>2206</td><td>6.75</td><td>&quot;Ese BRUME&quot;</td><td>1996-01-20</td><td>&quot;NGR&quot;</td><td>null</td><td>&quot;LSU Bernie Moo…</td><td>2022-04-23</td><td>1163</td><td>&quot;Long Jump&quot;</td><td>&quot;1.8&quot;</td><td>&quot;female&quot;</td></tr><tr><td>2206</td><td>6.75</td><td>&quot;Quanesha BURKS…</td><td>1995-03-15</td><td>&quot;USA&quot;</td><td>&quot;1&quot;</td><td>&quot;Grand Bahama S…</td><td>2022-08-20</td><td>1163</td><td>&quot;Long Jump&quot;</td><td>&quot;0.1&quot;</td><td>&quot;female&quot;</td></tr><tr><td>2206</td><td>6.75</td><td>&quot;Esraa OWIS&quot;</td><td>1997-10-15</td><td>&quot;EGY&quot;</td><td>&quot;1&quot;</td><td>&quot;Olympic Sports…</td><td>2022-09-14</td><td>1163</td><td>&quot;Long Jump&quot;</td><td>&quot;1.3&quot;</td><td>&quot;female&quot;</td></tr><tr><td>2206</td><td>6.75</td><td>&quot;Claire BRYANT&quot;</td><td>2001-08-25</td><td>&quot;USA&quot;</td><td>&quot;3&quot;</td><td>&quot;Percy Beard Tr…</td><td>2023-04-14</td><td>1163</td><td>&quot;Long Jump&quot;</td><td>&quot;1.8&quot;</td><td>&quot;female&quot;</td></tr><tr><td>2206</td><td>6.75</td><td>&quot;Sumire HATA&quot;</td><td>1996-05-04</td><td>&quot;JPN&quot;</td><td>&quot;1&quot;</td><td>&quot;Prefectural Sh…</td><td>2023-05-03</td><td>1163</td><td>&quot;Long Jump&quot;</td><td>&quot;2.0&quot;</td><td>&quot;female&quot;</td></tr><tr><td>2206</td><td>6.75</td><td>&quot;Fátima DIAME&quot;</td><td>1996-09-22</td><td>&quot;ESP&quot;</td><td>&quot;1&quot;</td><td>&quot;Helmántico, Sa…</td><td>2023-06-03</td><td>1179</td><td>&quot;Long Jump&quot;</td><td>&quot;-2.7&quot;</td><td>&quot;female&quot;</td></tr><tr><td>2206</td><td>6.75</td><td>&quot;Diana LESTI&quot;</td><td>1998-03-30</td><td>&quot;HUN&quot;</td><td>&quot;1&quot;</td><td>&quot;Lantos Mihály …</td><td>2023-06-08</td><td>1164</td><td>&quot;Long Jump&quot;</td><td>&quot;-0.3&quot;</td><td>&quot;female&quot;</td></tr><tr><td>2206</td><td>6.75</td><td>&quot;Hilary KPATCHA…</td><td>1998-05-05</td><td>&quot;FRA&quot;</td><td>&quot;1f1&quot;</td><td>&quot;Stadion Śląski…</td><td>2023-06-25</td><td>1167</td><td>&quot;Long Jump&quot;</td><td>&quot;-0.7&quot;</td><td>&quot;female&quot;</td></tr></tbody></table></div>"
      ],
      "text/plain": [
       "shape: (463_847, 12)\n",
       "┌──────┬───────┬────────────────────┬────────────┬───┬───────────────┬───────────┬──────┬────────┐\n",
       "│ Rank ┆ Mark  ┆ Competitor         ┆ DOB        ┆ … ┆ Results Score ┆ Event     ┆ Wind ┆ sex    │\n",
       "│ ---  ┆ ---   ┆ ---                ┆ ---        ┆   ┆ ---           ┆ ---       ┆ ---  ┆ ---    │\n",
       "│ i64  ┆ f64   ┆ str                ┆ date       ┆   ┆ i64           ┆ str       ┆ str  ┆ str    │\n",
       "╞══════╪═══════╪════════════════════╪════════════╪═══╪═══════════════╪═══════════╪══════╪════════╡\n",
       "│ 1    ┆ 223.1 ┆ Hicham EL GUERROUJ ┆ 1974-09-14 ┆ … ┆ 1292          ┆ One Mile  ┆ null ┆ male   │\n",
       "│ 2    ┆ 223.4 ┆ Noah NGENY         ┆ 1978-11-02 ┆ … ┆ 1288          ┆ One Mile  ┆ null ┆ male   │\n",
       "│ 3    ┆ 224.3 ┆ Noureddine MORCELI ┆ 1970-02-28 ┆ … ┆ 1275          ┆ One Mile  ┆ null ┆ male   │\n",
       "│ 4    ┆ 224.6 ┆ Hicham EL GUERROUJ ┆ 1974-09-14 ┆ … ┆ 1272          ┆ One Mile  ┆ null ┆ male   │\n",
       "│ …    ┆ …     ┆ …                  ┆ …          ┆ … ┆ …             ┆ …         ┆ …    ┆ …      │\n",
       "│ 2206 ┆ 6.75  ┆ Sumire HATA        ┆ 1996-05-04 ┆ … ┆ 1163          ┆ Long Jump ┆ 2.0  ┆ female │\n",
       "│ 2206 ┆ 6.75  ┆ Fátima DIAME       ┆ 1996-09-22 ┆ … ┆ 1179          ┆ Long Jump ┆ -2.7 ┆ female │\n",
       "│ 2206 ┆ 6.75  ┆ Diana LESTI        ┆ 1998-03-30 ┆ … ┆ 1164          ┆ Long Jump ┆ -0.3 ┆ female │\n",
       "│ 2206 ┆ 6.75  ┆ Hilary KPATCHA     ┆ 1998-05-05 ┆ … ┆ 1167          ┆ Long Jump ┆ -0.7 ┆ female │\n",
       "└──────┴───────┴────────────────────┴────────────┴───┴───────────────┴───────────┴──────┴────────┘"
      ]
     },
     "execution_count": 19,
     "metadata": {},
     "output_type": "execute_result"
    }
   ],
   "source": [
    "df = pl.concat(\n",
    "    [\n",
    "        pl.read_csv(\n",
    "            \"../data/men.csv\", try_parse_dates=True, infer_schema_length=10000\n",
    "        ).with_columns(pl.lit(\"male\").alias(\"sex\")),\n",
    "        pl.read_csv(\n",
    "            \"../data/women.csv\", try_parse_dates=True, infer_schema_length=10000\n",
    "        ).with_columns(pl.lit(\"female\").alias(\"sex\")),\n",
    "    ]\n",
    ").drop(columns=[\"\"])\n",
    "df"
   ]
  },
  {
   "cell_type": "code",
   "execution_count": 20,
   "metadata": {},
   "outputs": [],
   "source": [
    "info = events_dict = {\n",
    "    \"5 Kilometres Race Walk\": (\"Race Walking\", \"Metres\", 5000),\n",
    "    \"30 Kilometres Race Walk\": (\"Race Walking\", \"Metres\", 30000),\n",
    "    \"100 Metres Hurdles\": (\"Sprint\", \"Metres\", 100),\n",
    "    \"3000 Metres Steeplechase\": (\"Middle Distance\", \"Metres\", 3000),\n",
    "    \"400 Metres Hurdles\": (\"Sprint\", \"Metres\", 400),\n",
    "    \"Javelin Throw\": (\"Throwing\", \"Metres\", None),\n",
    "    \"Discus Throw\": (\"Throwing\", \"Metres\", None),\n",
    "    \"1000 Metres\": (\"Middle Distance\", \"Metres\", 1000),\n",
    "    \"35 Kilometres Race Walk\": (\"Race Walking\", \"Metres\", 35000),\n",
    "    \"600 Metres\": (\"Sprint\", \"Metres\", 600),\n",
    "    \"800 Metres\": (\"Middle Distance\", \"Metres\", 800),\n",
    "    \"One Mile\": (\"Middle Distance\", \"Metres\", 1609),\n",
    "    \"3000 Metres\": (\"Middle Distance\", \"Metres\", 3000),\n",
    "    \"10000 Metres Race Walk\": (\"Race Walking\", \"Metres\", 10000),\n",
    "    \"Heptathlon\": (\"Multi-events\", \"Points\", None),\n",
    "    \"Triple Jump\": (\"Jumping\", \"Metres\", None),\n",
    "    \"10 Miles Road\": (\"Road Running\", \"Metres\", 16093),\n",
    "    \"20 Kilometres Race Walk\": (\"Race Walking\", \"Metres\", 20000),\n",
    "    \"2000 Metres\": (\"Middle Distance\", \"Metres\", 2000),\n",
    "    \"2000 Metres Steeplechase\": (\"Middle Distance\", \"Metres\", 2000),\n",
    "    \"20 Kilometres\": (\"Long Distance\", \"Metres\", 20000),\n",
    "    \"5000 Metres\": (\"Long Distance\", \"Metres\", 5000),\n",
    "    \"50 Kilometres Race Walk\": (\"Race Walking\", \"Metres\", 50000),\n",
    "    \"Two Miles\": (\"Middle Distance\", \"Metres\", 3218),\n",
    "    \"Shot Put\": (\"Throwing\", \"Metres\", None),\n",
    "    \"110 Metres Hurdles\": (\"Sprint\", \"Metres\", 110),\n",
    "    \"5 Kilometres\": (\"Long Distance\", \"Metres\", 5000),\n",
    "    \"Long Jump\": (\"Jumping\", \"Metres\", None),\n",
    "    \"Pole Vault\": (\"Jumping\", \"Metres\", None),\n",
    "    \"15 Kilometres\": (\"Long Distance\", \"Metres\", 15000),\n",
    "    \"Hammer Throw\": (\"Throwing\", \"Metres\", None),\n",
    "    \"10 Kilometres\": (\"Long Distance\", \"Metres\", 10000),\n",
    "    \"Decathlon\": (\"Multi-events\", \"Points\", None),\n",
    "    \"5000 Metres Race Walk\": (\"Race Walking\", \"Metres\", 5000),\n",
    "    \"300 Metres\": (\"Sprint\", \"Metres\", 300),\n",
    "    \"High Jump\": (\"Jumping\", \"Metres\", None),\n",
    "    \"100 Metres\": (\"Sprint\", \"Metres\", 100),\n",
    "    \"20000 Metres Race Walk\": (\"Race Walking\", \"Metres\", 20000),\n",
    "    \"Half Marathon\": (\"Road Running\", \"Metres\", 21097),\n",
    "    \"400 Metres\": (\"Sprint\", \"Metres\", 400),\n",
    "    \"200 Metres\": (\"Sprint\", \"Metres\", 200),\n",
    "    \"10000 Metres\": (\"Long Distance\", \"Metres\", 10000),\n",
    "    \"1500 Metres\": (\"Middle Distance\", \"Metres\", 1500),\n",
    "    \"Marathon\": (\"Road Running\", \"Metres\", 42195),\n",
    "    \"10 Kilometres Race Walk\": (\"Race Walking\", \"Metres\", 10000),\n",
    "    \"3000 Metres Race Walk\": (\"Race Walking\", \"Metres\", 3000),\n",
    "}"
   ]
  },
  {
   "cell_type": "code",
   "execution_count": 21,
   "metadata": {},
   "outputs": [
    {
     "data": {
      "text/html": [
       "<div><style>\n",
       ".dataframe > thead > tr > th,\n",
       ".dataframe > tbody > tr > td {\n",
       "  text-align: right;\n",
       "}\n",
       "</style>\n",
       "<small>shape: (463_847, 15)</small><table border=\"1\" class=\"dataframe\"><thead><tr><th>Rank</th><th>Mark</th><th>Competitor</th><th>DOB</th><th>Nat</th><th>Pos</th><th>Venue</th><th>Date</th><th>Results Score</th><th>Event</th><th>Wind</th><th>sex</th><th>Event Type</th><th>Event Unit</th><th>Event Distance</th></tr><tr><td>i64</td><td>f64</td><td>str</td><td>date</td><td>str</td><td>str</td><td>str</td><td>date</td><td>i64</td><td>str</td><td>str</td><td>str</td><td>str</td><td>str</td><td>i64</td></tr></thead><tbody><tr><td>1</td><td>223.1</td><td>&quot;Hicham EL GUER…</td><td>1974-09-14</td><td>&quot;MAR&quot;</td><td>&quot;1&quot;</td><td>&quot;Stadio Olimpic…</td><td>1999-07-07</td><td>1292</td><td>&quot;One Mile&quot;</td><td>null</td><td>&quot;male&quot;</td><td>&quot;Middle Distanc…</td><td>&quot;Metres&quot;</td><td>1609</td></tr><tr><td>2</td><td>223.4</td><td>&quot;Noah NGENY&quot;</td><td>1978-11-02</td><td>&quot;KEN&quot;</td><td>&quot;2&quot;</td><td>&quot;Stadio Olimpic…</td><td>1999-07-07</td><td>1288</td><td>&quot;One Mile&quot;</td><td>null</td><td>&quot;male&quot;</td><td>&quot;Middle Distanc…</td><td>&quot;Metres&quot;</td><td>1609</td></tr><tr><td>3</td><td>224.3</td><td>&quot;Noureddine MOR…</td><td>1970-02-28</td><td>&quot;ALG&quot;</td><td>&quot;1&quot;</td><td>&quot;Rieti (ITA)&quot;</td><td>1993-09-05</td><td>1275</td><td>&quot;One Mile&quot;</td><td>null</td><td>&quot;male&quot;</td><td>&quot;Middle Distanc…</td><td>&quot;Metres&quot;</td><td>1609</td></tr><tr><td>4</td><td>224.6</td><td>&quot;Hicham EL GUER…</td><td>1974-09-14</td><td>&quot;MAR&quot;</td><td>&quot;1&quot;</td><td>&quot;Nice (FRA)&quot;</td><td>1998-07-16</td><td>1272</td><td>&quot;One Mile&quot;</td><td>null</td><td>&quot;male&quot;</td><td>&quot;Middle Distanc…</td><td>&quot;Metres&quot;</td><td>1609</td></tr><tr><td>5</td><td>224.9</td><td>&quot;Hicham EL GUER…</td><td>1974-09-14</td><td>&quot;MAR&quot;</td><td>&quot;1&quot;</td><td>&quot;Oslo (NOR)&quot;</td><td>1997-07-04</td><td>1268</td><td>&quot;One Mile&quot;</td><td>null</td><td>&quot;male&quot;</td><td>&quot;Middle Distanc…</td><td>&quot;Metres&quot;</td><td>1609</td></tr><tr><td>6</td><td>224.9</td><td>&quot;Hicham EL GUER…</td><td>1974-09-14</td><td>&quot;MAR&quot;</td><td>&quot;1&quot;</td><td>&quot;Stadio Olimpic…</td><td>2001-06-29</td><td>1267</td><td>&quot;One Mile&quot;</td><td>null</td><td>&quot;male&quot;</td><td>&quot;Middle Distanc…</td><td>&quot;Metres&quot;</td><td>1609</td></tr><tr><td>7</td><td>225.1</td><td>&quot;Noureddine MOR…</td><td>1970-02-28</td><td>&quot;ALG&quot;</td><td>&quot;1&quot;</td><td>&quot;Zürich (SUI)&quot;</td><td>1995-08-16</td><td>1264</td><td>&quot;One Mile&quot;</td><td>null</td><td>&quot;male&quot;</td><td>&quot;Middle Distanc…</td><td>&quot;Metres&quot;</td><td>1609</td></tr><tr><td>8</td><td>225.6</td><td>&quot;Hicham EL GUER…</td><td>1974-09-14</td><td>&quot;MAR&quot;</td><td>&quot;1&quot;</td><td>&quot;Olympiastadion…</td><td>1997-08-26</td><td>1258</td><td>&quot;One Mile&quot;</td><td>null</td><td>&quot;male&quot;</td><td>&quot;Middle Distanc…</td><td>&quot;Metres&quot;</td><td>1609</td></tr><tr><td>9</td><td>225.9</td><td>&quot;Hicham EL GUER…</td><td>1974-09-14</td><td>&quot;MAR&quot;</td><td>&quot;1&quot;</td><td>&quot;Crystal Palace…</td><td>2000-08-05</td><td>1254</td><td>&quot;One Mile&quot;</td><td>null</td><td>&quot;male&quot;</td><td>&quot;Middle Distanc…</td><td>&quot;Metres&quot;</td><td>1609</td></tr><tr><td>10</td><td>226.2</td><td>&quot;Hicham EL GUER…</td><td>1974-09-14</td><td>&quot;MAR&quot;</td><td>&quot;1&quot;</td><td>&quot;Bislett Stadio…</td><td>2000-07-28</td><td>1250</td><td>&quot;One Mile&quot;</td><td>null</td><td>&quot;male&quot;</td><td>&quot;Middle Distanc…</td><td>&quot;Metres&quot;</td><td>1609</td></tr><tr><td>11</td><td>226.3</td><td>&quot;Steve CRAM&quot;</td><td>1960-10-14</td><td>&quot;GBR&quot;</td><td>&quot;1&quot;</td><td>&quot;Oslo (NOR)&quot;</td><td>1985-07-27</td><td>1249</td><td>&quot;One Mile&quot;</td><td>null</td><td>&quot;male&quot;</td><td>&quot;Middle Distanc…</td><td>&quot;Metres&quot;</td><td>1609</td></tr><tr><td>12</td><td>226.3</td><td>&quot;Daniel KOMEN&quot;</td><td>1976-05-17</td><td>&quot;KEN&quot;</td><td>&quot;2&quot;</td><td>&quot;Olympiastadion…</td><td>1997-08-26</td><td>1248</td><td>&quot;One Mile&quot;</td><td>null</td><td>&quot;male&quot;</td><td>&quot;Middle Distanc…</td><td>&quot;Metres&quot;</td><td>1609</td></tr><tr><td>&hellip;</td><td>&hellip;</td><td>&hellip;</td><td>&hellip;</td><td>&hellip;</td><td>&hellip;</td><td>&hellip;</td><td>&hellip;</td><td>&hellip;</td><td>&hellip;</td><td>&hellip;</td><td>&hellip;</td><td>&hellip;</td><td>&hellip;</td><td>&hellip;</td></tr><tr><td>2206</td><td>6.75</td><td>&quot;Abigail IROZUR…</td><td>1990-01-03</td><td>&quot;GBR&quot;</td><td>&quot;4q1&quot;</td><td>&quot;National Stadi…</td><td>2021-08-01</td><td>1163</td><td>&quot;Long Jump&quot;</td><td>&quot;0.3&quot;</td><td>&quot;female&quot;</td><td>&quot;Jumping&quot;</td><td>&quot;Metres&quot;</td><td>null</td></tr><tr><td>2206</td><td>6.75</td><td>&quot;Maryna BEKH-RO…</td><td>1995-07-18</td><td>&quot;UKR&quot;</td><td>&quot;3&quot;</td><td>&quot;Sechseläutenpl…</td><td>2021-09-08</td><td>1163</td><td>&quot;Long Jump&quot;</td><td>&quot;0.4&quot;</td><td>&quot;female&quot;</td><td>&quot;Jumping&quot;</td><td>&quot;Metres&quot;</td><td>null</td></tr><tr><td>2206</td><td>6.75</td><td>&quot;Jasmine MOORE&quot;</td><td>2001-05-01</td><td>&quot;USA&quot;</td><td>&quot;4&quot;</td><td>&quot;Mike A. Myers …</td><td>2022-03-26</td><td>1163</td><td>&quot;Long Jump&quot;</td><td>&quot;1.7&quot;</td><td>&quot;female&quot;</td><td>&quot;Jumping&quot;</td><td>&quot;Metres&quot;</td><td>null</td></tr><tr><td>2206</td><td>6.75</td><td>&quot;Quanesha BURKS…</td><td>1995-03-15</td><td>&quot;USA&quot;</td><td>null</td><td>&quot;LSU Bernie Moo…</td><td>2022-04-23</td><td>1163</td><td>&quot;Long Jump&quot;</td><td>&quot;1.5&quot;</td><td>&quot;female&quot;</td><td>&quot;Jumping&quot;</td><td>&quot;Metres&quot;</td><td>null</td></tr><tr><td>2206</td><td>6.75</td><td>&quot;Ese BRUME&quot;</td><td>1996-01-20</td><td>&quot;NGR&quot;</td><td>null</td><td>&quot;LSU Bernie Moo…</td><td>2022-04-23</td><td>1163</td><td>&quot;Long Jump&quot;</td><td>&quot;1.8&quot;</td><td>&quot;female&quot;</td><td>&quot;Jumping&quot;</td><td>&quot;Metres&quot;</td><td>null</td></tr><tr><td>2206</td><td>6.75</td><td>&quot;Quanesha BURKS…</td><td>1995-03-15</td><td>&quot;USA&quot;</td><td>&quot;1&quot;</td><td>&quot;Grand Bahama S…</td><td>2022-08-20</td><td>1163</td><td>&quot;Long Jump&quot;</td><td>&quot;0.1&quot;</td><td>&quot;female&quot;</td><td>&quot;Jumping&quot;</td><td>&quot;Metres&quot;</td><td>null</td></tr><tr><td>2206</td><td>6.75</td><td>&quot;Esraa OWIS&quot;</td><td>1997-10-15</td><td>&quot;EGY&quot;</td><td>&quot;1&quot;</td><td>&quot;Olympic Sports…</td><td>2022-09-14</td><td>1163</td><td>&quot;Long Jump&quot;</td><td>&quot;1.3&quot;</td><td>&quot;female&quot;</td><td>&quot;Jumping&quot;</td><td>&quot;Metres&quot;</td><td>null</td></tr><tr><td>2206</td><td>6.75</td><td>&quot;Claire BRYANT&quot;</td><td>2001-08-25</td><td>&quot;USA&quot;</td><td>&quot;3&quot;</td><td>&quot;Percy Beard Tr…</td><td>2023-04-14</td><td>1163</td><td>&quot;Long Jump&quot;</td><td>&quot;1.8&quot;</td><td>&quot;female&quot;</td><td>&quot;Jumping&quot;</td><td>&quot;Metres&quot;</td><td>null</td></tr><tr><td>2206</td><td>6.75</td><td>&quot;Sumire HATA&quot;</td><td>1996-05-04</td><td>&quot;JPN&quot;</td><td>&quot;1&quot;</td><td>&quot;Prefectural Sh…</td><td>2023-05-03</td><td>1163</td><td>&quot;Long Jump&quot;</td><td>&quot;2.0&quot;</td><td>&quot;female&quot;</td><td>&quot;Jumping&quot;</td><td>&quot;Metres&quot;</td><td>null</td></tr><tr><td>2206</td><td>6.75</td><td>&quot;Fátima DIAME&quot;</td><td>1996-09-22</td><td>&quot;ESP&quot;</td><td>&quot;1&quot;</td><td>&quot;Helmántico, Sa…</td><td>2023-06-03</td><td>1179</td><td>&quot;Long Jump&quot;</td><td>&quot;-2.7&quot;</td><td>&quot;female&quot;</td><td>&quot;Jumping&quot;</td><td>&quot;Metres&quot;</td><td>null</td></tr><tr><td>2206</td><td>6.75</td><td>&quot;Diana LESTI&quot;</td><td>1998-03-30</td><td>&quot;HUN&quot;</td><td>&quot;1&quot;</td><td>&quot;Lantos Mihály …</td><td>2023-06-08</td><td>1164</td><td>&quot;Long Jump&quot;</td><td>&quot;-0.3&quot;</td><td>&quot;female&quot;</td><td>&quot;Jumping&quot;</td><td>&quot;Metres&quot;</td><td>null</td></tr><tr><td>2206</td><td>6.75</td><td>&quot;Hilary KPATCHA…</td><td>1998-05-05</td><td>&quot;FRA&quot;</td><td>&quot;1f1&quot;</td><td>&quot;Stadion Śląski…</td><td>2023-06-25</td><td>1167</td><td>&quot;Long Jump&quot;</td><td>&quot;-0.7&quot;</td><td>&quot;female&quot;</td><td>&quot;Jumping&quot;</td><td>&quot;Metres&quot;</td><td>null</td></tr></tbody></table></div>"
      ],
      "text/plain": [
       "shape: (463_847, 15)\n",
       "┌──────┬───────┬────────────────────┬────────────┬───┬────────┬────────────┬────────────┬──────────┐\n",
       "│ Rank ┆ Mark  ┆ Competitor         ┆ DOB        ┆ … ┆ sex    ┆ Event Type ┆ Event Unit ┆ Event    │\n",
       "│ ---  ┆ ---   ┆ ---                ┆ ---        ┆   ┆ ---    ┆ ---        ┆ ---        ┆ Distance │\n",
       "│ i64  ┆ f64   ┆ str                ┆ date       ┆   ┆ str    ┆ str        ┆ str        ┆ ---      │\n",
       "│      ┆       ┆                    ┆            ┆   ┆        ┆            ┆            ┆ i64      │\n",
       "╞══════╪═══════╪════════════════════╪════════════╪═══╪════════╪════════════╪════════════╪══════════╡\n",
       "│ 1    ┆ 223.1 ┆ Hicham EL GUERROUJ ┆ 1974-09-14 ┆ … ┆ male   ┆ Middle     ┆ Metres     ┆ 1609     │\n",
       "│      ┆       ┆                    ┆            ┆   ┆        ┆ Distance   ┆            ┆          │\n",
       "│ 2    ┆ 223.4 ┆ Noah NGENY         ┆ 1978-11-02 ┆ … ┆ male   ┆ Middle     ┆ Metres     ┆ 1609     │\n",
       "│      ┆       ┆                    ┆            ┆   ┆        ┆ Distance   ┆            ┆          │\n",
       "│ 3    ┆ 224.3 ┆ Noureddine MORCELI ┆ 1970-02-28 ┆ … ┆ male   ┆ Middle     ┆ Metres     ┆ 1609     │\n",
       "│      ┆       ┆                    ┆            ┆   ┆        ┆ Distance   ┆            ┆          │\n",
       "│ 4    ┆ 224.6 ┆ Hicham EL GUERROUJ ┆ 1974-09-14 ┆ … ┆ male   ┆ Middle     ┆ Metres     ┆ 1609     │\n",
       "│      ┆       ┆                    ┆            ┆   ┆        ┆ Distance   ┆            ┆          │\n",
       "│ …    ┆ …     ┆ …                  ┆ …          ┆ … ┆ …      ┆ …          ┆ …          ┆ …        │\n",
       "│ 2206 ┆ 6.75  ┆ Sumire HATA        ┆ 1996-05-04 ┆ … ┆ female ┆ Jumping    ┆ Metres     ┆ null     │\n",
       "│ 2206 ┆ 6.75  ┆ Fátima DIAME       ┆ 1996-09-22 ┆ … ┆ female ┆ Jumping    ┆ Metres     ┆ null     │\n",
       "│ 2206 ┆ 6.75  ┆ Diana LESTI        ┆ 1998-03-30 ┆ … ┆ female ┆ Jumping    ┆ Metres     ┆ null     │\n",
       "│ 2206 ┆ 6.75  ┆ Hilary KPATCHA     ┆ 1998-05-05 ┆ … ┆ female ┆ Jumping    ┆ Metres     ┆ null     │\n",
       "└──────┴───────┴────────────────────┴────────────┴───┴────────┴────────────┴────────────┴──────────┘"
      ]
     },
     "execution_count": 21,
     "metadata": {},
     "output_type": "execute_result"
    }
   ],
   "source": [
    "df.with_columns(\n",
    "    pl.col(\"Event\").apply(lambda e: info[e][0]).alias(\"Event Type\"),\n",
    "    pl.col(\"Event\").apply(lambda e: info[e][1]).alias(\"Event Unit\"),\n",
    "    pl.col(\"Event\").apply(lambda e: info[e][2]).alias(\"Event Distance\"),\n",
    ")"
   ]
  },
  {
   "cell_type": "code",
   "execution_count": 22,
   "metadata": {},
   "outputs": [
    {
     "data": {
      "text/plain": [
       "['Rank',\n",
       " 'Mark',\n",
       " 'Competitor',\n",
       " 'DOB',\n",
       " 'Nat',\n",
       " 'Pos',\n",
       " 'Venue',\n",
       " 'Date',\n",
       " 'Results Score',\n",
       " 'Event',\n",
       " 'Wind',\n",
       " 'sex']"
      ]
     },
     "execution_count": 22,
     "metadata": {},
     "output_type": "execute_result"
    }
   ],
   "source": [
    "df.columns"
   ]
  },
  {
   "cell_type": "code",
   "execution_count": null,
   "metadata": {},
   "outputs": [],
   "source": []
  }
 ],
 "metadata": {
  "kernelspec": {
   "display_name": ".venv",
   "language": "python",
   "name": "python3"
  },
  "language_info": {
   "codemirror_mode": {
    "name": "ipython",
    "version": 3
   },
   "file_extension": ".py",
   "mimetype": "text/x-python",
   "name": "python",
   "nbconvert_exporter": "python",
   "pygments_lexer": "ipython3",
   "version": "3.10.11"
  },
  "orig_nbformat": 4
 },
 "nbformat": 4,
 "nbformat_minor": 2
}
