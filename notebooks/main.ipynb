{
 "cells": [
  {
   "cell_type": "code",
   "execution_count": 1,
   "metadata": {},
   "outputs": [],
   "source": [
    "import polars as pl\n",
    "from polars import col as c\n",
    "import altair as alt\n",
    "from camminapy.plot import altair_theme\n",
    "\n",
    "altair_theme()"
   ]
  },
  {
   "cell_type": "code",
   "execution_count": 2,
   "metadata": {},
   "outputs": [],
   "source": [
    "df = pl.read_parquet(\"../data/data.parquet\")"
   ]
  },
  {
   "cell_type": "code",
   "execution_count": 7,
   "metadata": {},
   "outputs": [
    {
     "data": {
      "text/html": [
       "<div><style>\n",
       ".dataframe > thead > tr > th,\n",
       ".dataframe > tbody > tr > td {\n",
       "  text-align: right;\n",
       "}\n",
       "</style>\n",
       "<small>shape: (87, 13)</small><table border=\"1\" class=\"dataframe\"><thead><tr><th>Rank</th><th>Mark</th><th>Competitor</th><th>DOB</th><th>Nat</th><th>Pos</th><th>Venue</th><th>Date</th><th>Results Score</th><th>Mark [metres or seconds]</th><th>Event</th><th>Wind</th><th>Sex</th></tr><tr><td>i64</td><td>str</td><td>str</td><td>date</td><td>str</td><td>str</td><td>str</td><td>date</td><td>i64</td><td>f64</td><td>str</td><td>f64</td><td>str</td></tr></thead><tbody><tr><td>1</td><td>&quot;2:03:06&quot;</td><td>&quot;Daniel BAUTIST…</td><td>1952-08-04</td><td>&quot;MEX&quot;</td><td>&quot;1&quot;</td><td>&quot;Cherkassy (URS…</td><td>1980-04-27</td><td>1227</td><td>7386.0</td><td>&quot;30 Kilometres …</td><td>null</td><td>&quot;male&quot;</td></tr><tr><td>1</td><td>&quot;1:53.28&quot;</td><td>&quot;Jarmila KRATOC…</td><td>1951-01-26</td><td>&quot;TCH&quot;</td><td>&quot;1&quot;</td><td>&quot;München (GER)&quot;</td><td>1983-07-26</td><td>1286</td><td>113.2</td><td>&quot;800 Metres&quot;</td><td>null</td><td>&quot;female&quot;</td></tr><tr><td>1</td><td>&quot;47.6&quot;</td><td>&quot;Marita KOCH&quot;</td><td>1957-02-18</td><td>&quot;GDR&quot;</td><td>&quot;1&quot;</td><td>&quot;Bruce Stadium,…</td><td>1985-10-06</td><td>1304</td><td>47.0</td><td>&quot;400 Metres&quot;</td><td>null</td><td>&quot;female&quot;</td></tr><tr><td>1</td><td>&quot;1:12.81&quot;</td><td>&quot;Johnny GRAY&quot;</td><td>1960-06-19</td><td>&quot;USA&quot;</td><td>&quot;1&quot;</td><td>&quot;Santa Monica, …</td><td>1986-05-24</td><td>1239</td><td>72.8</td><td>&quot;600 Metres&quot;</td><td>null</td><td>&quot;male&quot;</td></tr><tr><td>1</td><td>&quot;74.08&quot;</td><td>&quot;Jürgen SCHULT&quot;</td><td>1960-05-11</td><td>&quot;GDR&quot;</td><td>&quot;1&quot;</td><td>&quot;Neubrandenburg…</td><td>1986-06-06</td><td>1320</td><td>74.0</td><td>&quot;Discus Throw&quot;</td><td>null</td><td>&quot;male&quot;</td></tr><tr><td>1</td><td>&quot;86.74&quot;</td><td>&quot;Yuriy SEDYKH&quot;</td><td>1955-06-11</td><td>&quot;URS&quot;</td><td>&quot;1&quot;</td><td>&quot;Neckarstadion,…</td><td>1986-08-30</td><td>1307</td><td>86.7</td><td>&quot;Hammer Throw&quot;</td><td>null</td><td>&quot;male&quot;</td></tr><tr><td>1</td><td>&quot;22.63&quot;</td><td>&quot;Natalya LISOVS…</td><td>1962-07-16</td><td>&quot;URS&quot;</td><td>&quot;1.0&quot;</td><td>&quot;Moskva (URS)&quot;</td><td>1987-06-07</td><td>1372</td><td>22.6</td><td>&quot;Shot Put&quot;</td><td>null</td><td>&quot;female&quot;</td></tr><tr><td>1</td><td>&quot;2.09&quot;</td><td>&quot;Stefka KOSTADI…</td><td>1965-03-25</td><td>&quot;BUL&quot;</td><td>&quot;1&quot;</td><td>&quot;Stadio Olimpic…</td><td>1987-08-30</td><td>1309</td><td>2.0</td><td>&quot;High Jump&quot;</td><td>null</td><td>&quot;female&quot;</td></tr><tr><td>1</td><td>&quot;7.52&quot;</td><td>&quot;Galina CHISTYA…</td><td>1962-07-26</td><td>&quot;URS&quot;</td><td>&quot;1&quot;</td><td>&quot;Leningrad (URS…</td><td>1988-06-11</td><td>1333</td><td>7.5</td><td>&quot;Long Jump&quot;</td><td>1.4</td><td>&quot;female&quot;</td></tr><tr><td>1</td><td>&quot;76.8&quot;</td><td>&quot;Gabriele REINS…</td><td>1963-09-23</td><td>&quot;GDR&quot;</td><td>&quot;1.0&quot;</td><td>&quot;Neubrandenburg…</td><td>1988-07-09</td><td>1382</td><td>76.0</td><td>&quot;Discus Throw&quot;</td><td>null</td><td>&quot;female&quot;</td></tr><tr><td>1</td><td>&quot;10.49&quot;</td><td>&quot;Florence GRIFF…</td><td>1959-12-21</td><td>&quot;USA&quot;</td><td>&quot;1qf1&quot;</td><td>&quot;Indianapolis, …</td><td>1988-07-16</td><td>1314</td><td>10.4</td><td>&quot;100 Metres&quot;</td><td>0.0</td><td>&quot;female&quot;</td></tr><tr><td>1</td><td>&quot;7291&quot;</td><td>&quot;Jackie JOYNER-…</td><td>1962-03-03</td><td>&quot;USA&quot;</td><td>&quot;1&quot;</td><td>&quot;Olympic Stadiu…</td><td>1988-09-24</td><td>1331</td><td>7291.0</td><td>&quot;Heptathlon&quot;</td><td>null</td><td>&quot;female&quot;</td></tr><tr><td>&hellip;</td><td>&hellip;</td><td>&hellip;</td><td>&hellip;</td><td>&hellip;</td><td>&hellip;</td><td>&hellip;</td><td>&hellip;</td><td>&hellip;</td><td>&hellip;</td><td>&hellip;</td><td>&hellip;</td><td>&hellip;</td></tr><tr><td>1</td><td>&quot;29:14&quot;</td><td>&quot;Yalemzerf YEHU…</td><td>1999-08-03</td><td>&quot;ETH&quot;</td><td>&quot;1&quot;</td><td>&quot;Castellón (ESP…</td><td>2022-02-27</td><td>1290</td><td>1754.0</td><td>&quot;10 Kilometres&quot;</td><td>null</td><td>&quot;female&quot;</td></tr><tr><td>1</td><td>&quot;50.68&quot;</td><td>&quot;Sydney MCLAUGH…</td><td>1999-08-07</td><td>&quot;USA&quot;</td><td>&quot;1&quot;</td><td>&quot;Hayward Field,…</td><td>2022-07-22</td><td>1312</td><td>50.6</td><td>&quot;400 Metres Hur…</td><td>null</td><td>&quot;female&quot;</td></tr><tr><td>1</td><td>&quot;6.21&quot;</td><td>&quot;Armand DUPLANT…</td><td>1999-11-10</td><td>&quot;SWE&quot;</td><td>&quot;1&quot;</td><td>&quot;Hayward Field,…</td><td>2022-07-24</td><td>1325</td><td>6.2</td><td>&quot;Pole Vault&quot;</td><td>null</td><td>&quot;male&quot;</td></tr><tr><td>1</td><td>&quot;12.12&quot;</td><td>&quot;Tobi AMUSAN&quot;</td><td>1997-04-23</td><td>&quot;NGR&quot;</td><td>&quot;1sf1&quot;</td><td>&quot;Hayward Field,…</td><td>2022-07-24</td><td>1272</td><td>12.1</td><td>&quot;100 Metres Hur…</td><td>0.9</td><td>&quot;female&quot;</td></tr><tr><td>1</td><td>&quot;2:01:09&quot;</td><td>&quot;Eliud KIPCHOGE…</td><td>1984-11-05</td><td>&quot;KEN&quot;</td><td>&quot;1&quot;</td><td>&quot;Berlin (GER)&quot;</td><td>2022-09-25</td><td>1312</td><td>7269.0</td><td>&quot;Marathon&quot;</td><td>null</td><td>&quot;male&quot;</td></tr><tr><td>1</td><td>&quot;44:04&quot;</td><td>&quot;Benard KIBET&quot;</td><td>1999-11-25</td><td>&quot;KEN&quot;</td><td>&quot;1&quot;</td><td>&quot;Kosa (JPN)&quot;</td><td>2022-12-04</td><td>1257</td><td>2644.0</td><td>&quot;10 Miles Road&quot;</td><td>null</td><td>&quot;male&quot;</td></tr><tr><td>1</td><td>&quot;2:37:11&quot;</td><td>&quot;Klavdiya AFANA…</td><td>1996-01-15</td><td>&quot;RUS&quot;</td><td>&quot;1.0&quot;</td><td>&quot;Saransk (RUS)&quot;</td><td>2023-05-20</td><td>1263</td><td>9431.0</td><td>&quot;35 Kilometres …</td><td>null</td><td>&quot;female&quot;</td></tr><tr><td>1</td><td>&quot;23.56&quot;</td><td>&quot;Ryan CROUSER&quot;</td><td>1992-12-18</td><td>&quot;USA&quot;</td><td>&quot;1&quot;</td><td>&quot;Drake Stadium,…</td><td>2023-05-27</td><td>1334</td><td>23.5</td><td>&quot;Shot Put&quot;</td><td>null</td><td>&quot;male&quot;</td></tr><tr><td>1</td><td>&quot;3:49.11&quot;</td><td>&quot;Faith KIPYEGON…</td><td>1994-01-10</td><td>&quot;KEN&quot;</td><td>&quot;1&quot;</td><td>&quot;Stadio Luigi R…</td><td>2023-06-02</td><td>1295</td><td>229.1</td><td>&quot;1500 Metres&quot;</td><td>null</td><td>&quot;female&quot;</td></tr><tr><td>1</td><td>&quot;7:52.11&quot;</td><td>&quot;Lamecha GIRMA&quot;</td><td>2000-11-26</td><td>&quot;ETH&quot;</td><td>&quot;1&quot;</td><td>&quot;Stade Charléty…</td><td>2023-06-09</td><td>1295</td><td>472.1</td><td>&quot;3000 Metres St…</td><td>null</td><td>&quot;male&quot;</td></tr><tr><td>1</td><td>&quot;7:54.10&quot;</td><td>&quot;Jakob INGEBRIG…</td><td>2000-09-19</td><td>&quot;NOR&quot;</td><td>&quot;1&quot;</td><td>&quot;Stade Charléty…</td><td>2023-06-09</td><td>1304</td><td>474.1</td><td>&quot;Two Miles&quot;</td><td>null</td><td>&quot;male&quot;</td></tr><tr><td>1</td><td>&quot;14:05.20&quot;</td><td>&quot;Faith KIPYEGON…</td><td>1994-01-10</td><td>&quot;KEN&quot;</td><td>&quot;1&quot;</td><td>&quot;Stade Charléty…</td><td>2023-06-09</td><td>1272</td><td>845.2</td><td>&quot;5000 Metres&quot;</td><td>null</td><td>&quot;female&quot;</td></tr></tbody></table></div>"
      ],
      "text/plain": [
       "shape: (87, 13)\n",
       "┌──────┬──────────┬───────────────┬────────────┬───┬───────────────┬───────────────┬──────┬────────┐\n",
       "│ Rank ┆ Mark     ┆ Competitor    ┆ DOB        ┆ … ┆ Mark [metres  ┆ Event         ┆ Wind ┆ Sex    │\n",
       "│ ---  ┆ ---      ┆ ---           ┆ ---        ┆   ┆ or seconds]   ┆ ---           ┆ ---  ┆ ---    │\n",
       "│ i64  ┆ str      ┆ str           ┆ date       ┆   ┆ ---           ┆ str           ┆ f64  ┆ str    │\n",
       "│      ┆          ┆               ┆            ┆   ┆ f64           ┆               ┆      ┆        │\n",
       "╞══════╪══════════╪═══════════════╪════════════╪═══╪═══════════════╪═══════════════╪══════╪════════╡\n",
       "│ 1    ┆ 2:03:06  ┆ Daniel        ┆ 1952-08-04 ┆ … ┆ 7386.0        ┆ 30 Kilometres ┆ null ┆ male   │\n",
       "│      ┆          ┆ BAUTISTA      ┆            ┆   ┆               ┆ Race Walk     ┆      ┆        │\n",
       "│ 1    ┆ 1:53.28  ┆ Jarmila       ┆ 1951-01-26 ┆ … ┆ 113.2         ┆ 800 Metres    ┆ null ┆ female │\n",
       "│      ┆          ┆ KRATOCHVÍLOVÁ ┆            ┆   ┆               ┆               ┆      ┆        │\n",
       "│ 1    ┆ 47.6     ┆ Marita KOCH   ┆ 1957-02-18 ┆ … ┆ 47.0          ┆ 400 Metres    ┆ null ┆ female │\n",
       "│ 1    ┆ 1:12.81  ┆ Johnny GRAY   ┆ 1960-06-19 ┆ … ┆ 72.8          ┆ 600 Metres    ┆ null ┆ male   │\n",
       "│ …    ┆ …        ┆ …             ┆ …          ┆ … ┆ …             ┆ …             ┆ …    ┆ …      │\n",
       "│ 1    ┆ 3:49.11  ┆ Faith         ┆ 1994-01-10 ┆ … ┆ 229.1         ┆ 1500 Metres   ┆ null ┆ female │\n",
       "│      ┆          ┆ KIPYEGON      ┆            ┆   ┆               ┆               ┆      ┆        │\n",
       "│ 1    ┆ 7:52.11  ┆ Lamecha GIRMA ┆ 2000-11-26 ┆ … ┆ 472.1         ┆ 3000 Metres   ┆ null ┆ male   │\n",
       "│      ┆          ┆               ┆            ┆   ┆               ┆ Steeplechase  ┆      ┆        │\n",
       "│ 1    ┆ 7:54.10  ┆ Jakob         ┆ 2000-09-19 ┆ … ┆ 474.1         ┆ Two Miles     ┆ null ┆ male   │\n",
       "│      ┆          ┆ INGEBRIGTSEN  ┆            ┆   ┆               ┆               ┆      ┆        │\n",
       "│ 1    ┆ 14:05.20 ┆ Faith         ┆ 1994-01-10 ┆ … ┆ 845.2         ┆ 5000 Metres   ┆ null ┆ female │\n",
       "│      ┆          ┆ KIPYEGON      ┆            ┆   ┆               ┆               ┆      ┆        │\n",
       "└──────┴──────────┴───────────────┴────────────┴───┴───────────────┴───────────────┴──────┴────────┘"
      ]
     },
     "execution_count": 7,
     "metadata": {},
     "output_type": "execute_result"
    }
   ],
   "source": [
    "df.filter(pl.col(\"Rank\") == 1).sort(\"Date\").write_csv(\"../data/worldrecords.csv\")"
   ]
  },
  {
   "cell_type": "code",
   "execution_count": null,
   "metadata": {},
   "outputs": [],
   "source": []
  }
 ],
 "metadata": {
  "kernelspec": {
   "display_name": ".venv",
   "language": "python",
   "name": "python3"
  },
  "language_info": {
   "codemirror_mode": {
    "name": "ipython",
    "version": 3
   },
   "file_extension": ".py",
   "mimetype": "text/x-python",
   "name": "python",
   "nbconvert_exporter": "python",
   "pygments_lexer": "ipython3",
   "version": "3.10.10"
  },
  "orig_nbformat": 4
 },
 "nbformat": 4,
 "nbformat_minor": 2
}
