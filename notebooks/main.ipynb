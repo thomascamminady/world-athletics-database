{
 "cells": [
  {
   "cell_type": "code",
   "execution_count": 1,
   "metadata": {},
   "outputs": [],
   "source": [
    "from world_athletics_database import logger\n",
    "import glob\n",
    "import polars as pl"
   ]
  },
  {
   "cell_type": "code",
   "execution_count": 2,
   "metadata": {},
   "outputs": [
    {
     "data": {
      "text/html": [
       "<pre style=\"white-space:pre;overflow-x:auto;line-height:normal;font-family:Menlo,'DejaVu Sans Mono',consolas,'Courier New',monospace\"><span style=\"color: #7fbfbf; text-decoration-color: #7fbfbf\">[07/02/23 09:23:44] </span><span style=\"color: #000080; text-decoration-color: #000080\">INFO    </span> <span style=\"font-weight: bold\">[</span><span style=\"color: #008000; text-decoration-color: #008000\">'../data/men/one-mile.csv'</span>, <span style=\"color: #008000; text-decoration-color: #008000\">'../data/men/4x400-metres-relay.csv'</span>,     <a href=\"file:///var/folders/dy/v73twks152z4p6y_7yl9bmbc0000gn/T/ipykernel_9596/1632730425.py\" target=\"_blank\"><span style=\"color: #7f7f7f; text-decoration-color: #7f7f7f\">1632730425.py</span></a><span style=\"color: #7f7f7f; text-decoration-color: #7f7f7f\">:</span><a href=\"file:///var/folders/dy/v73twks152z4p6y_7yl9bmbc0000gn/T/ipykernel_9596/1632730425.py#2\" target=\"_blank\"><span style=\"color: #7f7f7f; text-decoration-color: #7f7f7f\">2</span></a>\n",
       "<span style=\"color: #7fbfbf; text-decoration-color: #7fbfbf\">                    </span>         <span style=\"color: #008000; text-decoration-color: #008000\">'../data/men/4x1500-metres-relay.csv'</span>, <span style=\"color: #008000; text-decoration-color: #008000\">'../data/men/shot-put.csv'</span>,     <span style=\"color: #7f7f7f; text-decoration-color: #7f7f7f\">               </span>\n",
       "<span style=\"color: #7fbfbf; text-decoration-color: #7fbfbf\">                    </span>         <span style=\"color: #008000; text-decoration-color: #008000\">'../data/men/2000-metres-steeplechase.csv'</span>,                            <span style=\"color: #7f7f7f; text-decoration-color: #7f7f7f\">               </span>\n",
       "<span style=\"color: #7fbfbf; text-decoration-color: #7fbfbf\">                    </span>         <span style=\"color: #008000; text-decoration-color: #008000\">'../data/men/discus-throw.csv'</span>,                                        <span style=\"color: #7f7f7f; text-decoration-color: #7f7f7f\">               </span>\n",
       "<span style=\"color: #7fbfbf; text-decoration-color: #7fbfbf\">                    </span>         <span style=\"color: #008000; text-decoration-color: #008000\">'../data/men/5000-metres-race-walk.csv'</span>,                               <span style=\"color: #7f7f7f; text-decoration-color: #7f7f7f\">               </span>\n",
       "<span style=\"color: #7fbfbf; text-decoration-color: #7fbfbf\">                    </span>         <span style=\"color: #008000; text-decoration-color: #008000\">'../data/men/5-kilometres-race-walk.csv'</span>,                              <span style=\"color: #7f7f7f; text-decoration-color: #7f7f7f\">               </span>\n",
       "<span style=\"color: #7fbfbf; text-decoration-color: #7fbfbf\">                    </span>         <span style=\"color: #008000; text-decoration-color: #008000\">'../data/men/10-kilometres.csv'</span>,                                       <span style=\"color: #7f7f7f; text-decoration-color: #7f7f7f\">               </span>\n",
       "<span style=\"color: #7fbfbf; text-decoration-color: #7fbfbf\">                    </span>         <span style=\"color: #008000; text-decoration-color: #008000\">'../data/men/10000-metres-race-walk.csv'</span>,                              <span style=\"color: #7f7f7f; text-decoration-color: #7f7f7f\">               </span>\n",
       "<span style=\"color: #7fbfbf; text-decoration-color: #7fbfbf\">                    </span>         <span style=\"color: #008000; text-decoration-color: #008000\">'../data/men/20-kilometres-race-walk.csv'</span>,                             <span style=\"color: #7f7f7f; text-decoration-color: #7f7f7f\">               </span>\n",
       "<span style=\"color: #7fbfbf; text-decoration-color: #7fbfbf\">                    </span>         <span style=\"color: #008000; text-decoration-color: #008000\">'../data/men/15-kilometres.csv'</span>, <span style=\"color: #008000; text-decoration-color: #008000\">'../data/men/1500-metres.csv'</span>,        <span style=\"color: #7f7f7f; text-decoration-color: #7f7f7f\">               </span>\n",
       "<span style=\"color: #7fbfbf; text-decoration-color: #7fbfbf\">                    </span>         <span style=\"color: #008000; text-decoration-color: #008000\">'../data/men/4x100-metres-relay.csv'</span>,                                  <span style=\"color: #7f7f7f; text-decoration-color: #7f7f7f\">               </span>\n",
       "<span style=\"color: #7fbfbf; text-decoration-color: #7fbfbf\">                    </span>         <span style=\"color: #008000; text-decoration-color: #008000\">'../data/men/400-metres-hurdles.csv'</span>,                                  <span style=\"color: #7f7f7f; text-decoration-color: #7f7f7f\">               </span>\n",
       "<span style=\"color: #7fbfbf; text-decoration-color: #7fbfbf\">                    </span>         <span style=\"color: #008000; text-decoration-color: #008000\">'../data/men/110-metres-hurdles.csv'</span>, <span style=\"color: #008000; text-decoration-color: #008000\">'../data/men/100-metres.csv'</span>,    <span style=\"color: #7f7f7f; text-decoration-color: #7f7f7f\">               </span>\n",
       "<span style=\"color: #7fbfbf; text-decoration-color: #7fbfbf\">                    </span>         <span style=\"color: #008000; text-decoration-color: #008000\">'../data/men/600-metres.csv'</span>,                                          <span style=\"color: #7f7f7f; text-decoration-color: #7f7f7f\">               </span>\n",
       "<span style=\"color: #7fbfbf; text-decoration-color: #7fbfbf\">                    </span>         <span style=\"color: #008000; text-decoration-color: #008000\">'../data/men/3000-metres-steeplechase.csv'</span>,                            <span style=\"color: #7f7f7f; text-decoration-color: #7f7f7f\">               </span>\n",
       "<span style=\"color: #7fbfbf; text-decoration-color: #7fbfbf\">                    </span>         <span style=\"color: #008000; text-decoration-color: #008000\">'../data/men/decathlon.csv'</span>, <span style=\"color: #008000; text-decoration-color: #008000\">'../data/men/3000-metres.csv'</span>,            <span style=\"color: #7f7f7f; text-decoration-color: #7f7f7f\">               </span>\n",
       "<span style=\"color: #7fbfbf; text-decoration-color: #7fbfbf\">                    </span>         <span style=\"color: #008000; text-decoration-color: #008000\">'../data/men/4x200-metres-relay.csv'</span>, <span style=\"color: #008000; text-decoration-color: #008000\">'../data/men/two-miles.csv'</span>,     <span style=\"color: #7f7f7f; text-decoration-color: #7f7f7f\">               </span>\n",
       "<span style=\"color: #7fbfbf; text-decoration-color: #7fbfbf\">                    </span>         <span style=\"color: #008000; text-decoration-color: #008000\">'../data/men/10-miles-road.csv'</span>,                                       <span style=\"color: #7f7f7f; text-decoration-color: #7f7f7f\">               </span>\n",
       "<span style=\"color: #7fbfbf; text-decoration-color: #7fbfbf\">                    </span>         <span style=\"color: #008000; text-decoration-color: #008000\">'../data/men/50-kilometres-race-walk.csv'</span>,                             <span style=\"color: #7f7f7f; text-decoration-color: #7f7f7f\">               </span>\n",
       "<span style=\"color: #7fbfbf; text-decoration-color: #7fbfbf\">                    </span>         <span style=\"color: #008000; text-decoration-color: #008000\">'../data/men/pole-vault.csv'</span>, <span style=\"color: #008000; text-decoration-color: #008000\">'../data/men/hammer-throw.csv'</span>,          <span style=\"color: #7f7f7f; text-decoration-color: #7f7f7f\">               </span>\n",
       "<span style=\"color: #7fbfbf; text-decoration-color: #7fbfbf\">                    </span>         <span style=\"color: #008000; text-decoration-color: #008000\">'../data/men/10000-metres.csv'</span>, <span style=\"color: #008000; text-decoration-color: #008000\">'../data/men/5-kilometres.csv'</span>,        <span style=\"color: #7f7f7f; text-decoration-color: #7f7f7f\">               </span>\n",
       "<span style=\"color: #7fbfbf; text-decoration-color: #7fbfbf\">                    </span>         <span style=\"color: #008000; text-decoration-color: #008000\">'../data/men/20-kilometres.csv'</span>, <span style=\"color: #008000; text-decoration-color: #008000\">'../data/men/200-metres.csv'</span>,         <span style=\"color: #7f7f7f; text-decoration-color: #7f7f7f\">               </span>\n",
       "<span style=\"color: #7fbfbf; text-decoration-color: #7fbfbf\">                    </span>         <span style=\"color: #008000; text-decoration-color: #008000\">'../data/men/triple-jump.csv'</span>, <span style=\"color: #008000; text-decoration-color: #008000\">'../data/men/2000-metres.csv'</span>,          <span style=\"color: #7f7f7f; text-decoration-color: #7f7f7f\">               </span>\n",
       "<span style=\"color: #7fbfbf; text-decoration-color: #7fbfbf\">                    </span>         <span style=\"color: #008000; text-decoration-color: #008000\">'../data/men/20000-metres-race-walk.csv'</span>,                              <span style=\"color: #7f7f7f; text-decoration-color: #7f7f7f\">               </span>\n",
       "<span style=\"color: #7fbfbf; text-decoration-color: #7fbfbf\">                    </span>         <span style=\"color: #008000; text-decoration-color: #008000\">'../data/men/5000-metres.csv'</span>, <span style=\"color: #008000; text-decoration-color: #008000\">'../data/men/1000-metres.csv'</span>,          <span style=\"color: #7f7f7f; text-decoration-color: #7f7f7f\">               </span>\n",
       "<span style=\"color: #7fbfbf; text-decoration-color: #7fbfbf\">                    </span>         <span style=\"color: #008000; text-decoration-color: #008000\">'../data/men/400-metres.csv'</span>,                                          <span style=\"color: #7f7f7f; text-decoration-color: #7f7f7f\">               </span>\n",
       "<span style=\"color: #7fbfbf; text-decoration-color: #7fbfbf\">                    </span>         <span style=\"color: #008000; text-decoration-color: #008000\">'../data/men/30-kilometres-race-walk.csv'</span>,                             <span style=\"color: #7f7f7f; text-decoration-color: #7f7f7f\">               </span>\n",
       "<span style=\"color: #7fbfbf; text-decoration-color: #7fbfbf\">                    </span>         <span style=\"color: #008000; text-decoration-color: #008000\">'../data/men/300-metres.csv'</span>, <span style=\"color: #008000; text-decoration-color: #008000\">'../data/men/marathon.csv'</span>,              <span style=\"color: #7f7f7f; text-decoration-color: #7f7f7f\">               </span>\n",
       "<span style=\"color: #7fbfbf; text-decoration-color: #7fbfbf\">                    </span>         <span style=\"color: #008000; text-decoration-color: #008000\">'../data/men/3000-metres-race-walk.csv'</span>,                               <span style=\"color: #7f7f7f; text-decoration-color: #7f7f7f\">               </span>\n",
       "<span style=\"color: #7fbfbf; text-decoration-color: #7fbfbf\">                    </span>         <span style=\"color: #008000; text-decoration-color: #008000\">'../data/men/javelin-throw.csv'</span>, <span style=\"color: #008000; text-decoration-color: #008000\">'../data/men/half-marathon.csv'</span>,      <span style=\"color: #7f7f7f; text-decoration-color: #7f7f7f\">               </span>\n",
       "<span style=\"color: #7fbfbf; text-decoration-color: #7fbfbf\">                    </span>         <span style=\"color: #008000; text-decoration-color: #008000\">'../data/men/high-jump.csv'</span>,                                           <span style=\"color: #7f7f7f; text-decoration-color: #7f7f7f\">               </span>\n",
       "<span style=\"color: #7fbfbf; text-decoration-color: #7fbfbf\">                    </span>         <span style=\"color: #008000; text-decoration-color: #008000\">'../data/men/35-kilometres-race-walk.csv'</span>,                             <span style=\"color: #7f7f7f; text-decoration-color: #7f7f7f\">               </span>\n",
       "<span style=\"color: #7fbfbf; text-decoration-color: #7fbfbf\">                    </span>         <span style=\"color: #008000; text-decoration-color: #008000\">'../data/men/4x800-metres-relay.csv'</span>, <span style=\"color: #008000; text-decoration-color: #008000\">'../data/men/800-metres.csv'</span>,    <span style=\"color: #7f7f7f; text-decoration-color: #7f7f7f\">               </span>\n",
       "<span style=\"color: #7fbfbf; text-decoration-color: #7fbfbf\">                    </span>         <span style=\"color: #008000; text-decoration-color: #008000\">'../data/men/10-kilometres-race-walk.csv'</span>,                             <span style=\"color: #7f7f7f; text-decoration-color: #7f7f7f\">               </span>\n",
       "<span style=\"color: #7fbfbf; text-decoration-color: #7fbfbf\">                    </span>         <span style=\"color: #008000; text-decoration-color: #008000\">'../data/men/long-jump.csv'</span><span style=\"font-weight: bold\">]</span>                                           <span style=\"color: #7f7f7f; text-decoration-color: #7f7f7f\">               </span>\n",
       "</pre>\n"
      ],
      "text/plain": [
       "\u001b[2;36m[07/02/23 09:23:44]\u001b[0m\u001b[2;36m \u001b[0m\u001b[34mINFO    \u001b[0m \u001b[1m[\u001b[0m\u001b[32m'../data/men/one-mile.csv'\u001b[0m, \u001b[32m'../data/men/4x400-metres-relay.csv'\u001b[0m,     \u001b]8;id=424799;file:///var/folders/dy/v73twks152z4p6y_7yl9bmbc0000gn/T/ipykernel_9596/1632730425.py\u001b\\\u001b[2m1632730425.py\u001b[0m\u001b]8;;\u001b\\\u001b[2m:\u001b[0m\u001b]8;id=147346;file:///var/folders/dy/v73twks152z4p6y_7yl9bmbc0000gn/T/ipykernel_9596/1632730425.py#2\u001b\\\u001b[2m2\u001b[0m\u001b]8;;\u001b\\\n",
       "\u001b[2;36m                    \u001b[0m         \u001b[32m'../data/men/4x1500-metres-relay.csv'\u001b[0m, \u001b[32m'../data/men/shot-put.csv'\u001b[0m,     \u001b[2m               \u001b[0m\n",
       "\u001b[2;36m                    \u001b[0m         \u001b[32m'../data/men/2000-metres-steeplechase.csv'\u001b[0m,                            \u001b[2m               \u001b[0m\n",
       "\u001b[2;36m                    \u001b[0m         \u001b[32m'../data/men/discus-throw.csv'\u001b[0m,                                        \u001b[2m               \u001b[0m\n",
       "\u001b[2;36m                    \u001b[0m         \u001b[32m'../data/men/5000-metres-race-walk.csv'\u001b[0m,                               \u001b[2m               \u001b[0m\n",
       "\u001b[2;36m                    \u001b[0m         \u001b[32m'../data/men/5-kilometres-race-walk.csv'\u001b[0m,                              \u001b[2m               \u001b[0m\n",
       "\u001b[2;36m                    \u001b[0m         \u001b[32m'../data/men/10-kilometres.csv'\u001b[0m,                                       \u001b[2m               \u001b[0m\n",
       "\u001b[2;36m                    \u001b[0m         \u001b[32m'../data/men/10000-metres-race-walk.csv'\u001b[0m,                              \u001b[2m               \u001b[0m\n",
       "\u001b[2;36m                    \u001b[0m         \u001b[32m'../data/men/20-kilometres-race-walk.csv'\u001b[0m,                             \u001b[2m               \u001b[0m\n",
       "\u001b[2;36m                    \u001b[0m         \u001b[32m'../data/men/15-kilometres.csv'\u001b[0m, \u001b[32m'../data/men/1500-metres.csv'\u001b[0m,        \u001b[2m               \u001b[0m\n",
       "\u001b[2;36m                    \u001b[0m         \u001b[32m'../data/men/4x100-metres-relay.csv'\u001b[0m,                                  \u001b[2m               \u001b[0m\n",
       "\u001b[2;36m                    \u001b[0m         \u001b[32m'../data/men/400-metres-hurdles.csv'\u001b[0m,                                  \u001b[2m               \u001b[0m\n",
       "\u001b[2;36m                    \u001b[0m         \u001b[32m'../data/men/110-metres-hurdles.csv'\u001b[0m, \u001b[32m'../data/men/100-metres.csv'\u001b[0m,    \u001b[2m               \u001b[0m\n",
       "\u001b[2;36m                    \u001b[0m         \u001b[32m'../data/men/600-metres.csv'\u001b[0m,                                          \u001b[2m               \u001b[0m\n",
       "\u001b[2;36m                    \u001b[0m         \u001b[32m'../data/men/3000-metres-steeplechase.csv'\u001b[0m,                            \u001b[2m               \u001b[0m\n",
       "\u001b[2;36m                    \u001b[0m         \u001b[32m'../data/men/decathlon.csv'\u001b[0m, \u001b[32m'../data/men/3000-metres.csv'\u001b[0m,            \u001b[2m               \u001b[0m\n",
       "\u001b[2;36m                    \u001b[0m         \u001b[32m'../data/men/4x200-metres-relay.csv'\u001b[0m, \u001b[32m'../data/men/two-miles.csv'\u001b[0m,     \u001b[2m               \u001b[0m\n",
       "\u001b[2;36m                    \u001b[0m         \u001b[32m'../data/men/10-miles-road.csv'\u001b[0m,                                       \u001b[2m               \u001b[0m\n",
       "\u001b[2;36m                    \u001b[0m         \u001b[32m'../data/men/50-kilometres-race-walk.csv'\u001b[0m,                             \u001b[2m               \u001b[0m\n",
       "\u001b[2;36m                    \u001b[0m         \u001b[32m'../data/men/pole-vault.csv'\u001b[0m, \u001b[32m'../data/men/hammer-throw.csv'\u001b[0m,          \u001b[2m               \u001b[0m\n",
       "\u001b[2;36m                    \u001b[0m         \u001b[32m'../data/men/10000-metres.csv'\u001b[0m, \u001b[32m'../data/men/5-kilometres.csv'\u001b[0m,        \u001b[2m               \u001b[0m\n",
       "\u001b[2;36m                    \u001b[0m         \u001b[32m'../data/men/20-kilometres.csv'\u001b[0m, \u001b[32m'../data/men/200-metres.csv'\u001b[0m,         \u001b[2m               \u001b[0m\n",
       "\u001b[2;36m                    \u001b[0m         \u001b[32m'../data/men/triple-jump.csv'\u001b[0m, \u001b[32m'../data/men/2000-metres.csv'\u001b[0m,          \u001b[2m               \u001b[0m\n",
       "\u001b[2;36m                    \u001b[0m         \u001b[32m'../data/men/20000-metres-race-walk.csv'\u001b[0m,                              \u001b[2m               \u001b[0m\n",
       "\u001b[2;36m                    \u001b[0m         \u001b[32m'../data/men/5000-metres.csv'\u001b[0m, \u001b[32m'../data/men/1000-metres.csv'\u001b[0m,          \u001b[2m               \u001b[0m\n",
       "\u001b[2;36m                    \u001b[0m         \u001b[32m'../data/men/400-metres.csv'\u001b[0m,                                          \u001b[2m               \u001b[0m\n",
       "\u001b[2;36m                    \u001b[0m         \u001b[32m'../data/men/30-kilometres-race-walk.csv'\u001b[0m,                             \u001b[2m               \u001b[0m\n",
       "\u001b[2;36m                    \u001b[0m         \u001b[32m'../data/men/300-metres.csv'\u001b[0m, \u001b[32m'../data/men/marathon.csv'\u001b[0m,              \u001b[2m               \u001b[0m\n",
       "\u001b[2;36m                    \u001b[0m         \u001b[32m'../data/men/3000-metres-race-walk.csv'\u001b[0m,                               \u001b[2m               \u001b[0m\n",
       "\u001b[2;36m                    \u001b[0m         \u001b[32m'../data/men/javelin-throw.csv'\u001b[0m, \u001b[32m'../data/men/half-marathon.csv'\u001b[0m,      \u001b[2m               \u001b[0m\n",
       "\u001b[2;36m                    \u001b[0m         \u001b[32m'../data/men/high-jump.csv'\u001b[0m,                                           \u001b[2m               \u001b[0m\n",
       "\u001b[2;36m                    \u001b[0m         \u001b[32m'../data/men/35-kilometres-race-walk.csv'\u001b[0m,                             \u001b[2m               \u001b[0m\n",
       "\u001b[2;36m                    \u001b[0m         \u001b[32m'../data/men/4x800-metres-relay.csv'\u001b[0m, \u001b[32m'../data/men/800-metres.csv'\u001b[0m,    \u001b[2m               \u001b[0m\n",
       "\u001b[2;36m                    \u001b[0m         \u001b[32m'../data/men/10-kilometres-race-walk.csv'\u001b[0m,                             \u001b[2m               \u001b[0m\n",
       "\u001b[2;36m                    \u001b[0m         \u001b[32m'../data/men/long-jump.csv'\u001b[0m\u001b[1m]\u001b[0m                                           \u001b[2m               \u001b[0m\n"
      ]
     },
     "metadata": {},
     "output_type": "display_data"
    }
   ],
   "source": [
    "csv_files = glob.glob(\"../data/men/*.csv\")\n",
    "logger.info(csv_files)"
   ]
  },
  {
   "cell_type": "code",
   "execution_count": 50,
   "metadata": {},
   "outputs": [],
   "source": [
    "def transform_times(s: str | float):\n",
    "    if isinstance(s, float):\n",
    "        return s\n",
    "    y = s.split(\":\")\n",
    "    if not y[-1].isalnum():\n",
    "        y[-1] = y[-1][:-1]\n",
    "    if len(y) == 3:  # hh:mm:ss\n",
    "        return 3600 * float(y[0]) + 60 * float(y[1]) + float(y[2])\n",
    "    elif len(y) == 2:  # mm:ss\n",
    "        return 60 * float(y[0]) + float(y[1])\n",
    "    elif len(y) == 1:  # s.ms\n",
    "        return float(y[0])\n",
    "    else:\n",
    "        raise Exception(f\"Could not convert {s}\")\n",
    "\n",
    "\n",
    "def transform_score(s):\n",
    "    return float(s)\n",
    "\n",
    "\n",
    "def transform_rank(s):\n",
    "    return float(s)\n",
    "\n",
    "\n",
    "df_list = []\n",
    "\n",
    "for csv in csv_files:\n",
    "    if \"relay\" in csv:\n",
    "        continue\n",
    "    df = pl.read_csv(csv, infer_schema_length=10000)\n",
    "    if \"decathlon\" in csv:\n",
    "        df = df.take_every(2)  # every second row is the individual marks\n",
    "        cols = df.columns\n",
    "        df = df.select(c for c in cols[:11])  # throw away all individual marks\n",
    "\n",
    "    df = df.with_columns(\n",
    "        pl.col(\"Mark\").apply(transform_times).cast(float),\n",
    "        pl.col(\"Rank\").apply(transform_rank).cast(int),\n",
    "        pl.col(\"Results Score\").apply(transform_score).cast(int),\n",
    "        pl.col(\"Pos\").cast(str),\n",
    "        pl.lit(csv.split(\"/\")[-1].replace(\".csv\", \"\").replace(\"-\", \" \").title()).alias(\n",
    "            \"Event\"\n",
    "        ),\n",
    "    )\n",
    "    df_list.append(df)"
   ]
  },
  {
   "cell_type": "code",
   "execution_count": 51,
   "metadata": {},
   "outputs": [],
   "source": [
    "df = (\n",
    "    pl.concat(\n",
    "        [df for df in df_list],\n",
    "        how=\"diagonal\",\n",
    "    )\n",
    "    .drop(\"Unnamed: 6\", \"Unnamed: 7\")\n",
    "    .rename(mapping={\"WIND\": \"Wind\"})\n",
    "    .with_columns(\n",
    "        pl.col(\"DOB\").str.strptime(pl.Date, format=\"%d %b %Y\", strict=False),\n",
    "        pl.col(\"Date\").str.strptime(pl.Date, format=\"%d %b %Y\", strict=False),\n",
    "    )\n",
    ")"
   ]
  },
  {
   "cell_type": "code",
   "execution_count": null,
   "metadata": {},
   "outputs": [],
   "source": []
  }
 ],
 "metadata": {
  "kernelspec": {
   "language": "python",
   "name": "python3"
  },
  "language_info": {
   "codemirror_mode": {
    "name": "ipython",
    "version": 3
   },
   "file_extension": ".py",
   "mimetype": "text/x-python",
   "name": "python",
   "nbconvert_exporter": "python",
   "pygments_lexer": "ipython3",
   "version": "3.10.11"
  }
 },
 "nbformat": 4,
 "nbformat_minor": 2
}
